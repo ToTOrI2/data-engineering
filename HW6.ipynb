{
 "cells": [
  {
   "cell_type": "code",
   "execution_count": 5,
   "id": "c8aab631-a477-43bb-85d4-b4c1844bef9a",
   "metadata": {
    "tags": []
   },
   "outputs": [],
   "source": [
    "import numpy as np\n",
    "import matplotlib.pyplot as plt  \n",
    "from mpl_toolkits.axes_grid1 import make_axes_locatable"
   ]
  },
  {
   "cell_type": "code",
   "execution_count": 6,
   "id": "ed837e0b-7ff0-4593-8707-b8794273e300",
   "metadata": {
    "tags": []
   },
   "outputs": [
    {
     "data": {
      "text/plain": [
       "<contextlib.ExitStack at 0x214a1ea56d0>"
      ]
     },
     "execution_count": 6,
     "metadata": {},
     "output_type": "execute_result"
    }
   ],
   "source": [
    "%matplotlib qt5\n",
    "%config InlineBackend.figure_format = 'svg'\n",
    "\n",
    "plt.rcParams['figure.figsize'] = [12, 5]\n",
    "plt.rcParams['font.size'] = 13\n",
    "plt.ion()"
   ]
  },
  {
   "cell_type": "code",
   "execution_count": 9,
   "id": "aeacf6af-1779-49df-a64e-01092cedc8e0",
   "metadata": {
    "tags": []
   },
   "outputs": [
    {
     "name": "stdout",
     "output_type": "stream",
     "text": [
      "[15.  +0.j  -0.04-0.4j  1.56+0.j ]\n"
     ]
    }
   ],
   "source": [
    "def f(z):\n",
    "    return np.square(z) - 1\n",
    "\n",
    "z = [4, 1-0.2j, 1.6]\n",
    "result = f(z)\n",
    "print(result)"
   ]
  },
  {
   "cell_type": "code",
   "execution_count": 11,
   "id": "f14c7b23-c541-45a5-ad59-23b8bdc0898a",
   "metadata": {
    "tags": []
   },
   "outputs": [],
   "source": [
    "x, y = np.meshgrid(np.linspace(-10, 10, 20), np.linspace(-10, 10, 20))"
   ]
  },
  {
   "cell_type": "code",
   "execution_count": 13,
   "id": "55ee9f7e-3854-4351-9a5a-2b356eb41a86",
   "metadata": {
    "tags": []
   },
   "outputs": [],
   "source": [
    "mesh = x + 1j * y\n",
    "output = np.abs(f(mesh))"
   ]
  },
  {
   "cell_type": "code",
   "execution_count": 14,
   "id": "6b7e8a66-51bc-4069-9b35-935a4d9720ae",
   "metadata": {
    "tags": []
   },
   "outputs": [],
   "source": [
    "fig = plt.figure()\n",
    "ax = plt.axes(projection='3d')\n",
    "\n",
    "ax.scatter(x, y, output, alpha=0.2)\n",
    "\n",
    "ax.set_xlabel('Real axis')      # 실수부\n",
    "ax.set_ylabel('Imaginary axis') # 허수부\n",
    "ax.set_zlabel('Absolute value') # 함수값의 절대값\n",
    "ax.set_title('One Iteration: $f(z) = z^2 - 1$');"
   ]
  },
  {
   "cell_type": "code",
   "execution_count": 15,
   "id": "21462624-2e9d-4fe9-bb46-ba228e5745a2",
   "metadata": {
    "tags": []
   },
   "outputs": [],
   "source": [
    "output = np.abs(f(f(mesh)))\n",
    "\n",
    "ax = plt.axes(projection='3d')\n",
    "\n",
    "ax.scatter(x, y, output, alpha=0.2)\n",
    "\n",
    "ax.set_xlabel('Real axis')\n",
    "ax.set_ylabel('Imaginary axis')\n",
    "ax.set_zlabel('Absolute value')\n",
    "ax.set_title('Two Iterations: $ f(z) = z^2 - 1$');"
   ]
  },
  {
   "cell_type": "code",
   "execution_count": 17,
   "id": "f346807a-2236-40ac-b6de-80e143ac12d7",
   "metadata": {
    "tags": []
   },
   "outputs": [],
   "source": [
    "selected_values = np.array([0.4 + 0.4j, 0.41 + 0.4j, 0.4 + 0.41j])\n",
    "num_iter = 9\n",
    "\n",
    "outputs = np.zeros(\n",
    "    (num_iter+1, selected_values.shape[0]),  # 10X3 Zero 배열 생성\n",
    "    dtype=complex  # 데이터 타입: 복소수\n",
    ")\n",
    "outputs[0] = selected_values   # 함수 초기 조건\n",
    "\n",
    "for i in range(num_iter):\n",
    "    outputs[i+1] = f(outputs[i])  # 10번 함수 반복하는 동안 각 결과를 저장\n",
    "\n",
    "fig, axes = plt.subplots(1, selected_values.shape[0], figsize=(16, 6))\n",
    "axes[1].set_xlabel('Real axis')\n",
    "axes[0].set_ylabel('Imaginary axis')\n",
    "\n",
    "for ax, data in zip(axes, outputs.T):\n",
    "    cycle = ax.scatter(\n",
    "        data.real,  # 실수부\n",
    "        data.imag,  # 허수부\n",
    "        c=range(data.shape[0]), \n",
    "        alpha=0.6\n",
    "    )\n",
    "    ax.set_title(f'Mapping of iterations on {data[0]}')\n",
    "\n",
    "fig.colorbar(cycle, ax=axes, location='bottom', label='Iteration');"
   ]
  },
  {
   "cell_type": "code",
   "execution_count": 18,
   "id": "894087ea-6dd4-4f22-8f0f-e643aaa31ab4",
   "metadata": {
    "tags": []
   },
   "outputs": [],
   "source": [
    "def divergence_rate(mesh, num_iter=10, radius=2):\n",
    "\n",
    "    z = mesh.copy()\n",
    "    # 값 별 반복 횟수를 저장\n",
    "    diverge_len = np.zeros(mesh.shape)\n",
    "\n",
    "    # 발산되지 않은 값들에 대해 함수를 반복 적용\n",
    "    for i in range(num_iter):\n",
    "        # [+] 1. Boolean 배열  마스크 생성\n",
    "        ...\n",
    "\n",
    "        # [+] 2. 해당 값들에 대한 diverge_len 값 증가\n",
    "        ...\n",
    "\n",
    "        # [+] 3. 해당 값들에 대해 함수 적용\n",
    "        ...\n",
    "\n",
    "    return diverge_len"
   ]
  },
  {
   "cell_type": "code",
   "execution_count": 19,
   "id": "b2533361-3463-4819-b04e-794314970e22",
   "metadata": {
    "tags": []
   },
   "outputs": [],
   "source": [
    "x, y = np.meshgrid(np.linspace(-2, 2, 400), np.linspace(-2, 2, 400))\n",
    "mesh = x + (1j * y)\n",
    "\n",
    "output = divergence_rate(mesh)\n",
    "\n",
    "fig = plt.figure(figsize=(5, 5))\n",
    "ax = plt.axes()\n",
    "\n",
    "ax.set_title('$f(z) = z^2-1$')\n",
    "ax.set_xlabel('Real axis')\n",
    "ax.set_ylabel('Imaginary axis')\n",
    "\n",
    "im = ax.imshow(output, extent=[-2, 2, -2, 2])\n",
    "divider = make_axes_locatable(ax)\n",
    "cax = divider.append_axes('right', size='5%', pad=0.1)\n",
    "plt.colorbar(im, cax=cax, label='Number of iterations');"
   ]
  }
 ],
 "metadata": {
  "kernelspec": {
   "display_name": "Python 3 (ipykernel)",
   "language": "python",
   "name": "python3"
  },
  "language_info": {
   "codemirror_mode": {
    "name": "ipython",
    "version": 3
   },
   "file_extension": ".py",
   "mimetype": "text/x-python",
   "name": "python",
   "nbconvert_exporter": "python",
   "pygments_lexer": "ipython3",
   "version": "3.11.4"
  }
 },
 "nbformat": 4,
 "nbformat_minor": 5
}
